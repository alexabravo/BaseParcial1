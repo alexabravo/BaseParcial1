{
 "cells": [
  {
   "cell_type": "code",
   "execution_count": 3,
   "metadata": {},
   "outputs": [
    {
     "name": "stdout",
     "output_type": "stream",
     "text": [
      "The sql extension is already loaded. To reload it, use:\n",
      "  %reload_ext sql\n"
     ]
    }
   ],
   "source": [
    "%load_ext sql"
   ]
  },
  {
   "cell_type": "code",
   "execution_count": 8,
   "metadata": {},
   "outputs": [
    {
     "data": {
      "text/plain": [
       "'Connected: @parciaal1.db'"
      ]
     },
     "execution_count": 8,
     "metadata": {},
     "output_type": "execute_result"
    }
   ],
   "source": [
    "sql sqlite:///parciaal1.db"
   ]
  },
  {
   "cell_type": "code",
   "execution_count": 9,
   "metadata": {},
   "outputs": [
    {
     "name": "stdout",
     "output_type": "stream",
     "text": [
      " * sqlite:///parciaal1.db\n",
      "   sqlite:///parcial1.db\n",
      "Done.\n"
     ]
    },
    {
     "data": {
      "text/plain": [
       "[]"
      ]
     },
     "execution_count": 9,
     "metadata": {},
     "output_type": "execute_result"
    }
   ],
   "source": [
    "%%sql  \n",
    "CREATE TABLE paciente(Id_Paciente INT PRIMARY KEY, Nombre STRING, edad INT, departamento STRING, Fecha_Inicio DATE, Fecha_Contagio DATE);"
   ]
  },
  {
   "cell_type": "code",
   "execution_count": 13,
   "metadata": {},
   "outputs": [
    {
     "name": "stdout",
     "output_type": "stream",
     "text": [
      " * sqlite:///parciaal1.db\n",
      "   sqlite:///parcial1.db\n",
      "(sqlite3.OperationalError) table Fallecimiento already exists\n",
      "[SQL: CREATE TABLE Fallecimiento(Id_Paciente INT PRIMARY KEY, Id_Defuncion INT, Fecha_Defuncion DATE);]\n",
      "(Background on this error at: http://sqlalche.me/e/e3q8)\n"
     ]
    }
   ],
   "source": [
    "%%sql  \n",
    "CREATE TABLE Fallecimiento(Id_Paciente INT PRIMARY KEY, Id_Defuncion INT, Fecha_Defuncion DATE);"
   ]
  },
  {
   "cell_type": "code",
   "execution_count": 15,
   "metadata": {},
   "outputs": [
    {
     "name": "stdout",
     "output_type": "stream",
     "text": [
      " * sqlite:///parciaal1.db\n",
      "   sqlite:///parcial1.db\n",
      "(sqlite3.OperationalError) table Enfermedad already exists\n",
      "[SQL: CREATE TABLE Enfermedad(Id_Enfermedad INT, Id_Paciente INT, Nombre_Enfermedad STRING);]\n",
      "(Background on this error at: http://sqlalche.me/e/e3q8)\n"
     ]
    }
   ],
   "source": [
    "%%sql  \n",
    "CREATE TABLE Enfermedad(Id_Enfermedad INT, Id_Paciente INT, Nombre_Enfermedad STRING);"
   ]
  },
  {
   "cell_type": "code",
   "execution_count": 16,
   "metadata": {},
   "outputs": [
    {
     "name": "stdout",
     "output_type": "stream",
     "text": [
      " * sqlite:///parciaal1.db\n",
      "   sqlite:///parcial1.db\n",
      "Done.\n"
     ]
    },
    {
     "data": {
      "text/plain": [
       "[]"
      ]
     },
     "execution_count": 16,
     "metadata": {},
     "output_type": "execute_result"
    }
   ],
   "source": [
    "%%sql  \n",
    "CREATE TABLE Departamento(Id_Paciente INT, Id_Departamento INT, Nombre_Departamento STRING);"
   ]
  },
  {
   "cell_type": "code",
   "execution_count": null,
   "metadata": {},
   "outputs": [],
   "source": []
  }
 ],
 "metadata": {
  "kernelspec": {
   "display_name": "Python 3",
   "language": "python",
   "name": "python3"
  },
  "language_info": {
   "codemirror_mode": {
    "name": "ipython",
    "version": 3
   },
   "file_extension": ".py",
   "mimetype": "text/x-python",
   "name": "python",
   "nbconvert_exporter": "python",
   "pygments_lexer": "ipython3",
   "version": "3.7.2"
  }
 },
 "nbformat": 4,
 "nbformat_minor": 4
}
